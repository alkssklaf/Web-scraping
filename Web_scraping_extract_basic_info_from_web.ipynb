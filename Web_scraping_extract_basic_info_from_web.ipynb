{
 "cells": [
  {
   "cell_type": "markdown",
   "id": "12c0b7a4-637f-4efb-8764-edd81abed117",
   "metadata": {},
   "source": [
    "Import necessary libraries"
   ]
  },
  {
   "cell_type": "code",
   "execution_count": 62,
   "id": "913e96a1-4e21-4163-8e91-e21b2a61bcac",
   "metadata": {},
   "outputs": [],
   "source": [
    "import requests\n",
    "from bs4 import BeautifulSoup as bs\n",
    "import pandas as pd"
   ]
  },
  {
   "cell_type": "markdown",
   "id": "828e6a6e-5ad2-405b-b538-b56f0273449f",
   "metadata": {},
   "source": [
    "Load the web page content"
   ]
  },
  {
   "cell_type": "code",
   "execution_count": 6,
   "id": "107200cb-8ee9-4a8f-98c2-287500e203c2",
   "metadata": {},
   "outputs": [],
   "source": [
    "r = requests.get(\"https://keithgalli.github.io/web-scraping/example.html\")"
   ]
  },
  {
   "cell_type": "markdown",
   "id": "54dc8ea5-b3d4-46af-9ca0-4a161ff43169",
   "metadata": {},
   "source": [
    "Convert to a beautiful soup object"
   ]
  },
  {
   "cell_type": "code",
   "execution_count": 9,
   "id": "7a522399-4ba3-4c89-a9f1-be2daf7f9849",
   "metadata": {},
   "outputs": [],
   "source": [
    "soup = bs(r.content)"
   ]
  },
  {
   "cell_type": "markdown",
   "id": "aa8a674c-9655-4177-8fff-bf3f32da15ce",
   "metadata": {},
   "source": [
    "Print out our html"
   ]
  },
  {
   "cell_type": "code",
   "execution_count": 10,
   "id": "346bc927-d91b-40aa-b163-24fd2bfab439",
   "metadata": {},
   "outputs": [
    {
     "name": "stdout",
     "output_type": "stream",
     "text": [
      "<html>\n",
      "<head>\n",
      "<title>HTML Example</title>\n",
      "</head>\n",
      "<body>\n",
      "<div align=\"middle\">\n",
      "<h1>HTML Webpage</h1>\n",
      "<p>Link to more interesting example: <a href=\"https://keithgalli.github.io/web-scraping/webpage.html\">keithgalli.github.io/web-scraping/webpage.html</a></p>\n",
      "</div>\n",
      "<h2>A Header</h2>\n",
      "<p><i>Some italicized text</i></p>\n",
      "<h2>Another header</h2>\n",
      "<p id=\"paragraph-id\"><b>Some bold text</b></p>\n",
      "</body>\n",
      "</html>\n",
      "\n"
     ]
    }
   ],
   "source": [
    "print(soup)"
   ]
  },
  {
   "cell_type": "markdown",
   "id": "c61cb289-511d-4a3f-9604-cd7ef3a031ff",
   "metadata": {},
   "source": [
    "find() and find_all()"
   ]
  },
  {
   "cell_type": "code",
   "execution_count": 12,
   "id": "2f355e3d-3980-4956-8ce7-344d355cfd3d",
   "metadata": {},
   "outputs": [
    {
     "data": {
      "text/plain": [
       "'A Header'"
      ]
     },
     "execution_count": 12,
     "metadata": {},
     "output_type": "execute_result"
    }
   ],
   "source": [
    "first_header = soup.find(\"h2\")\n",
    "first_header.get_text()"
   ]
  },
  {
   "cell_type": "code",
   "execution_count": 16,
   "id": "cd0212e5-478c-47e0-92d2-3031c2cf45ce",
   "metadata": {},
   "outputs": [
    {
     "name": "stdout",
     "output_type": "stream",
     "text": [
      "A Header\n",
      "Another header\n"
     ]
    }
   ],
   "source": [
    "headers = soup.find_all(\"h2\")\n",
    "for header in headers:\n",
    "    print(header.get_text())"
   ]
  },
  {
   "cell_type": "markdown",
   "id": "5f6ded40-bf66-4f03-a5d1-26fa21b0904c",
   "metadata": {},
   "source": [
    "Pass in a list of elements to look for"
   ]
  },
  {
   "cell_type": "code",
   "execution_count": 17,
   "id": "da7803de-be49-497a-bb2d-8073e60647e7",
   "metadata": {},
   "outputs": [
    {
     "data": {
      "text/plain": [
       "[<h1>HTML Webpage</h1>, <h2>A Header</h2>, <h2>Another header</h2>]"
      ]
     },
     "execution_count": 17,
     "metadata": {},
     "output_type": "execute_result"
    }
   ],
   "source": [
    "headers = soup.find_all([\"h1\", \"h2\"])\n",
    "headers"
   ]
  },
  {
   "cell_type": "markdown",
   "id": "47df6307-f4ac-4591-a75f-72de463c23be",
   "metadata": {},
   "source": [
    "Pass in sttributes to the find/find_all function"
   ]
  },
  {
   "cell_type": "code",
   "execution_count": 20,
   "id": "602d1d21-6ed0-42ec-afff-d6d55dce2c05",
   "metadata": {},
   "outputs": [
    {
     "data": {
      "text/plain": [
       "[<p id=\"paragraph-id\"><b>Some bold text</b></p>]"
      ]
     },
     "execution_count": 20,
     "metadata": {},
     "output_type": "execute_result"
    }
   ],
   "source": [
    "paragraph = soup.find_all(\"p\", attrs={\"id\": \"paragraph-id\"})\n",
    "paragraph"
   ]
  },
  {
   "cell_type": "code",
   "execution_count": 23,
   "id": "81abbabe-522b-42d9-8416-19b5f5c7041b",
   "metadata": {},
   "outputs": [
    {
     "name": "stdout",
     "output_type": "stream",
     "text": [
      "Some bold text\n"
     ]
    }
   ],
   "source": [
    "paragraph = soup.find_all(\"b\")\n",
    "for p in paragraph:\n",
    "    print(p.get_text())"
   ]
  },
  {
   "cell_type": "markdown",
   "id": "dc61f191-5fdb-4a77-8f3c-c95ff0b4c153",
   "metadata": {},
   "source": [
    "Nest find/find_all calls"
   ]
  },
  {
   "cell_type": "code",
   "execution_count": 25,
   "id": "54e000b6-c0a5-49e3-905a-d03fb9024843",
   "metadata": {},
   "outputs": [
    {
     "data": {
      "text/plain": [
       "<div align=\"middle\">\n",
       "<h1>HTML Webpage</h1>\n",
       "<p>Link to more interesting example: <a href=\"https://keithgalli.github.io/web-scraping/webpage.html\">keithgalli.github.io/web-scraping/webpage.html</a></p>\n",
       "</div>"
      ]
     },
     "execution_count": 25,
     "metadata": {},
     "output_type": "execute_result"
    }
   ],
   "source": [
    "body = soup.find(\"body\")\n",
    "div = body.find(\"div\")\n",
    "div"
   ]
  },
  {
   "cell_type": "markdown",
   "id": "7fb989e4-bfb0-428f-853f-abe6fdf6b582",
   "metadata": {},
   "source": [
    "Search for specific strings in our find/find_all calls"
   ]
  },
  {
   "cell_type": "markdown",
   "id": "6a35b80a-8bbf-46ff-afdf-78aa62337c04",
   "metadata": {},
   "source": [
    "Find any paragraph with text \"some\""
   ]
  },
  {
   "cell_type": "code",
   "execution_count": 28,
   "id": "c2fe5b10-6dd6-44f6-8450-b95d5a12ab4e",
   "metadata": {},
   "outputs": [],
   "source": [
    "import re"
   ]
  },
  {
   "cell_type": "code",
   "execution_count": 29,
   "id": "628bf6cd-011c-4fde-a492-d111d2300f28",
   "metadata": {},
   "outputs": [
    {
     "data": {
      "text/plain": [
       "[<p><i>Some italicized text</i></p>,\n",
       " <p id=\"paragraph-id\"><b>Some bold text</b></p>]"
      ]
     },
     "execution_count": 29,
     "metadata": {},
     "output_type": "execute_result"
    }
   ],
   "source": [
    "paragraphs = soup.find_all(\"p\", string = re.compile(\"Some\"))\n",
    "paragraphs"
   ]
  },
  {
   "cell_type": "code",
   "execution_count": 30,
   "id": "8524bc90-7a35-430e-af12-7e816fb6917c",
   "metadata": {},
   "outputs": [
    {
     "data": {
      "text/plain": [
       "[<h2>A Header</h2>, <h2>Another header</h2>]"
      ]
     },
     "execution_count": 30,
     "metadata": {},
     "output_type": "execute_result"
    }
   ],
   "source": [
    "headers = soup.find_all(\"h2\", string = re.compile(\"(H|h)eader\"))\n",
    "headers"
   ]
  },
  {
   "cell_type": "markdown",
   "id": "ac127261-ba0b-4153-94fb-2a2c89c37c7c",
   "metadata": {},
   "source": [
    "#### Select"
   ]
  },
  {
   "cell_type": "code",
   "execution_count": 31,
   "id": "24981928-57c0-4dd8-84f1-65fcb37e6c69",
   "metadata": {},
   "outputs": [
    {
     "data": {
      "text/plain": [
       "[<p>Link to more interesting example: <a href=\"https://keithgalli.github.io/web-scraping/webpage.html\">keithgalli.github.io/web-scraping/webpage.html</a></p>,\n",
       " <p><i>Some italicized text</i></p>,\n",
       " <p id=\"paragraph-id\"><b>Some bold text</b></p>]"
      ]
     },
     "execution_count": 31,
     "metadata": {},
     "output_type": "execute_result"
    }
   ],
   "source": [
    "content = soup.select(\"p\")\n",
    "content"
   ]
  },
  {
   "cell_type": "code",
   "execution_count": 32,
   "id": "451b14d1-ce97-4cd4-85a4-2e1cb2564ef4",
   "metadata": {},
   "outputs": [
    {
     "data": {
      "text/plain": [
       "[<p>Link to more interesting example: <a href=\"https://keithgalli.github.io/web-scraping/webpage.html\">keithgalli.github.io/web-scraping/webpage.html</a></p>,\n",
       " <p><i>Some italicized text</i></p>,\n",
       " <p id=\"paragraph-id\"><b>Some bold text</b></p>]"
      ]
     },
     "execution_count": 32,
     "metadata": {},
     "output_type": "execute_result"
    }
   ],
   "source": [
    "content = soup.find_all(\"p\")\n",
    "content"
   ]
  },
  {
   "cell_type": "markdown",
   "id": "1ddd12ba-0c66-4d0c-ab5d-307966884cfe",
   "metadata": {},
   "source": [
    "deep with select"
   ]
  },
  {
   "cell_type": "code",
   "execution_count": 33,
   "id": "b17d47e3-40b9-42c4-a6c9-59d90ebf65cc",
   "metadata": {},
   "outputs": [
    {
     "data": {
      "text/plain": [
       "[<p>Link to more interesting example: <a href=\"https://keithgalli.github.io/web-scraping/webpage.html\">keithgalli.github.io/web-scraping/webpage.html</a></p>]"
      ]
     },
     "execution_count": 33,
     "metadata": {},
     "output_type": "execute_result"
    }
   ],
   "source": [
    "content = soup.select(\"div p\")\n",
    "content"
   ]
  },
  {
   "cell_type": "markdown",
   "id": "ce65b221-416e-4231-bf68-f1a77b83575e",
   "metadata": {},
   "source": [
    "##### Getting different properties of HTML"
   ]
  },
  {
   "cell_type": "markdown",
   "id": "fcd33a0c-d14c-4c45-962d-5a1c46556a2b",
   "metadata": {},
   "source": [
    "- get_text() for bigger objects (if multiply child elements)"
   ]
  },
  {
   "cell_type": "code",
   "execution_count": 37,
   "id": "0363bbec-2ead-47fd-9d0d-d42d1cdc5049",
   "metadata": {},
   "outputs": [
    {
     "data": {
      "text/plain": [
       "'A Header'"
      ]
     },
     "execution_count": 37,
     "metadata": {},
     "output_type": "execute_result"
    }
   ],
   "source": [
    "soup.find(\"h2\").get_text()"
   ]
  },
  {
   "cell_type": "code",
   "execution_count": 45,
   "id": "410abd08-fddb-4917-b814-68eed9d94877",
   "metadata": {},
   "outputs": [
    {
     "data": {
      "text/plain": [
       "'HTML WebpageLink to more interesting example:keithgalli.github.io/web-scraping/webpage.html'"
      ]
     },
     "execution_count": 45,
     "metadata": {},
     "output_type": "execute_result"
    }
   ],
   "source": [
    "soup.find(\"div\").get_text(strip = True)"
   ]
  },
  {
   "cell_type": "markdown",
   "id": "fe0f2498-2141-4259-97d1-d09c7fe4b64c",
   "metadata": {},
   "source": [
    "- string"
   ]
  },
  {
   "cell_type": "code",
   "execution_count": 38,
   "id": "e4e1b292-9b2e-4bbc-a837-dd7ccd2d66b7",
   "metadata": {},
   "outputs": [
    {
     "data": {
      "text/plain": [
       "'A Header'"
      ]
     },
     "execution_count": 38,
     "metadata": {},
     "output_type": "execute_result"
    }
   ],
   "source": [
    "soup.find(\"h2\").string"
   ]
  },
  {
   "cell_type": "markdown",
   "id": "91e3ecb0-6c38-476e-bfc3-b9aedfa71775",
   "metadata": {},
   "source": [
    "is not work, because there more than one string"
   ]
  },
  {
   "cell_type": "code",
   "execution_count": 47,
   "id": "3eb5bbb0-5a25-4702-b1a1-1fba031e3b18",
   "metadata": {},
   "outputs": [],
   "source": [
    "soup.find(\"div\").string"
   ]
  },
  {
   "cell_type": "markdown",
   "id": "8a4424e0-7491-4cef-b67e-7f2fa4feeb1a",
   "metadata": {},
   "source": [
    "Get a specific property from an element"
   ]
  },
  {
   "cell_type": "code",
   "execution_count": 49,
   "id": "f30ba7c0-cc44-4295-9b00-4adcb7591ccd",
   "metadata": {},
   "outputs": [
    {
     "data": {
      "text/plain": [
       "'https://keithgalli.github.io/web-scraping/webpage.html'"
      ]
     },
     "execution_count": 49,
     "metadata": {},
     "output_type": "execute_result"
    }
   ],
   "source": [
    "soup.find(\"a\")[\"href\"]"
   ]
  },
  {
   "cell_type": "markdown",
   "id": "7dc73cf7-7724-46b3-ae33-78a4137be983",
   "metadata": {},
   "source": [
    "#### Code navigation"
   ]
  },
  {
   "cell_type": "code",
   "execution_count": 52,
   "id": "328a3047-cfd0-4f05-aca0-48cf2faa3beb",
   "metadata": {},
   "outputs": [
    {
     "data": {
      "text/plain": [
       "'HTML Webpage'"
      ]
     },
     "execution_count": 52,
     "metadata": {},
     "output_type": "execute_result"
    }
   ],
   "source": [
    "soup.body.div.h1.string"
   ]
  },
  {
   "cell_type": "markdown",
   "id": "a00df113-7387-4e19-86c4-4d8eb906dfe8",
   "metadata": {},
   "source": [
    "Know the terms: parent, sibling and child. If elements on the same level, we consider them as siblings."
   ]
  },
  {
   "cell_type": "code",
   "execution_count": 53,
   "id": "7206272e-fb2d-4a66-8193-df3f97a238c7",
   "metadata": {},
   "outputs": [
    {
     "data": {
      "text/plain": [
       "[<h2>A Header</h2>,\n",
       " <p><i>Some italicized text</i></p>,\n",
       " <h2>Another header</h2>,\n",
       " <p id=\"paragraph-id\"><b>Some bold text</b></p>]"
      ]
     },
     "execution_count": 53,
     "metadata": {},
     "output_type": "execute_result"
    }
   ],
   "source": [
    "soup.body.find(\"div\").find_next_siblings()"
   ]
  },
  {
   "cell_type": "markdown",
   "id": "02f82f4b-da59-452f-ad49-ae11101779c5",
   "metadata": {},
   "source": [
    "#### Exercises"
   ]
  },
  {
   "cell_type": "code",
   "execution_count": 54,
   "id": "e9473729-202f-403f-acea-2cc3a820caf8",
   "metadata": {},
   "outputs": [
    {
     "data": {
      "text/plain": [
       "<html><head>\n",
       "<title>Keith Galli's Page</title>\n",
       "<style>\n",
       "  table {\n",
       "    border-collapse: collapse;\n",
       "  }\n",
       "  th {\n",
       "    padding:5px;\n",
       "  }\n",
       "  td {\n",
       "    border: 1px solid #ddd;\n",
       "    padding: 5px;\n",
       "  }\n",
       "  tr:nth-child(even) {\n",
       "    background-color: #f2f2f2;\n",
       "  }\n",
       "  th {\n",
       "    padding-top: 12px;\n",
       "    padding-bottom: 12px;\n",
       "    text-align: left;\n",
       "    background-color: #add8e6;\n",
       "    color: black;\n",
       "  }\n",
       "  .block {\n",
       "  width: 100px;\n",
       "  /*float: left;*/\n",
       "    display: inline-block;\n",
       "    zoom: 1;\n",
       "  }\n",
       "  .column {\n",
       "  float: left;\n",
       "  height: 200px;\n",
       "  /*width: 33.33%;*/\n",
       "  padding: 5px;\n",
       "  }\n",
       "\n",
       "  .row::after {\n",
       "    content: \"\";\n",
       "    clear: both;\n",
       "    display: table;\n",
       "  }\n",
       "</style>\n",
       "</head>\n",
       "<body>\n",
       "<h1>Welcome to my page!</h1>\n",
       "<img src=\"./images/selfie1.jpg\" width=\"300px\"/>\n",
       "<h2>About me</h2>\n",
       "<p>Hi, my name is Keith and I am a YouTuber who focuses on content related to programming, data science, and machine learning!</p>\n",
       "<p>Here is a link to my channel: <a href=\"https://www.youtube.com/kgmit\">youtube.com/kgmit</a></p>\n",
       "<p>I grew up in the great state of New Hampshire here in the USA. From an early age I always loved math. Around my senior year of high school, my brother first introduced me to programming. I found it a creative way to apply the same type of logical thinking skills that I enjoyed with math. This influenced me to study computer science in college and ultimately create a YouTube channel to share some things that I have learned along the way.</p>\n",
       "<h3>Hobbies</h3>\n",
       "<p>Believe it or not, I don't code 24/7. I love doing all sorts of active things. I like to play ice hockey &amp; table tennis as well as run, hike, skateboard, and snowboard. In addition to sports, I am a board game enthusiast. The two that I've been playing the most recently are <i>Settlers of Catan</i> and <i>Othello</i>.</p>\n",
       "<h3>Fun Facts</h3>\n",
       "<ul class=\"fun-facts\">\n",
       "<li>Owned my dream car in high school <a href=\"#footer\"><sup>1</sup></a></li>\n",
       "<li>Middle name is Ronald</li>\n",
       "<li>Never had been on a plane until college</li>\n",
       "<li>Dunkin Donuts coffee is better than Starbucks</li>\n",
       "<li>A favorite book series of mine is <i>Ender's Game</i></li>\n",
       "<li>Current video game of choice is <i>Rocket League</i></li>\n",
       "<li>The band that I've seen the most times live is the <i>Zac Brown Band</i></li>\n",
       "</ul>\n",
       "<h2>Social Media</h2>\n",
       "  I encourage you to check out my content on all social media platforms\n",
       "  <br/>\n",
       "<ul class=\"socials\">\n",
       "<li class=\"social instagram\"><b>Instagram: </b><a href=\"https://www.instagram.com/keithgalli/\">https://www.instagram.com/keithgalli/</a></li>\n",
       "<li class=\"social twitter\"><b>Twitter: </b><a href=\"https://twitter.com/keithgalli\">https://twitter.com/keithgalli</a></li>\n",
       "<li class=\"social linkedin\"><b>LinkedIn: </b><a href=\"https://www.linkedin.com/in/keithgalli/\">https://www.linkedin.com/in/keithgalli/</a></li>\n",
       "<li class=\"social tiktok\"><b>TikTok: </b><a href=\"https://www.tiktok.com/@keithgalli\">https://www.tiktok.com/@keithgalli</a></li>\n",
       "</ul>\n",
       "<h2>Photos</h2>\n",
       "  Here are a few photos from a trip to italy I took last year\n",
       "  <div class=\"row\">\n",
       "<div class=\"column\">\n",
       "<img alt=\"Lake Como\" src=\"images/italy/lake_como.jpg\" style=\"height:100%\"/>\n",
       "</div>\n",
       "<div class=\"column\">\n",
       "<img alt=\"Pontevecchio, Florence\" src=\"images/italy/pontevecchio.jpg\" style=\"height:100%\"/>\n",
       "</div>\n",
       "<div class=\"column\">\n",
       "<img alt=\"Riomaggiore, Cinque de Terre\" src=\"images/italy/riomaggiore.jpg\" style=\"height:100%\"/>\n",
       "</div>\n",
       "</div>\n",
       "<div></div>\n",
       "<h2> Table </h2>\n",
       "  My MIT hockey stats :) \n",
       "  <br/>\n",
       "<table class=\"hockey-stats\">\n",
       "<thead>\n",
       "<tr>\n",
       "<th class=\"season\" data-sort=\"\">S</th>\n",
       "<th class=\"team\" data-sort=\"team\">Team</th>\n",
       "<th class=\"league\" data-sort=\"league\">League</th>\n",
       "<th class=\"regular gp\" data-sort=\"gp\">GP</th>\n",
       "<th class=\"regular g\" data-sort=\"g\">G</th>\n",
       "<th class=\"regular a\" data-sort=\"a\">A</th>\n",
       "<th class=\"regular tp\" data-sort=\"tp\">TP</th>\n",
       "<th class=\"regular pim\" data-sort=\"pim\">PIM</th>\n",
       "<th class=\"regular pm\" data-sort=\"pm\">+/-</th>\n",
       "<th class=\"separator\"> </th>\n",
       "<th class=\"postseason\">POST</th>\n",
       "<th class=\"postseason gp\" data-sort=\"playoffs-gp\">GP</th>\n",
       "<th class=\"postseason g\" data-sort=\"playoffs-g\">G</th>\n",
       "<th class=\"postseason a\" data-sort=\"playoffs-a\">A</th>\n",
       "<th class=\"postseason tp\" data-sort=\"playoffs-tp\">TP</th>\n",
       "<th class=\"postseason pim\" data-sort=\"playoffs-pim\">PIM</th>\n",
       "<th class=\"postseason pm\" data-sort=\"playoffs-pm\">+/-</th>\n",
       "</tr>\n",
       "</thead>\n",
       "<tbody>\n",
       "<tr class=\"team-continent-NA\">\n",
       "<td class=\"season sorted\">\n",
       "                  2014-15\n",
       "              </td>\n",
       "<td class=\"team\">\n",
       "<i><img src=\"images/flag.png\"/></i>\n",
       "<span class=\"txt-blue\">\n",
       "<a href=\"https://www.eliteprospects.com/team/10263/mit-mass.-inst.-of-tech./2014-2015?tab=stats\"> MIT (Mass. Inst. of Tech.) </a>\n",
       "</span>\n",
       "</td>\n",
       "<td class=\"league\"> <a href=\"https://www.eliteprospects.com/league/acha-ii/stats/2014-2015\"> ACHA II </a> </td>\n",
       "<td class=\"regular gp\">17</td>\n",
       "<td class=\"regular g\">3</td>\n",
       "<td class=\"regular a\">9</td>\n",
       "<td class=\"regular tp\">12</td>\n",
       "<td class=\"regular pim\">20</td>\n",
       "<td class=\"regular pm\"></td>\n",
       "<td class=\"separator\"> | </td>\n",
       "<td class=\"postseason\">\n",
       "<a href=\"https://www.eliteprospects.com/league/acha-ii/stats/2014-2015\"> </a>\n",
       "</td>\n",
       "<td class=\"postseason gp\">\n",
       "</td>\n",
       "<td class=\"postseason g\">\n",
       "</td>\n",
       "<td class=\"postseason a\">\n",
       "</td>\n",
       "<td class=\"postseason tp\">\n",
       "</td>\n",
       "<td class=\"postseason pim\">\n",
       "</td>\n",
       "<td class=\"postseason pm\">\n",
       "</td>\n",
       "</tr>\n",
       "<tr class=\"team-continent-NA\">\n",
       "<td class=\"season sorted\">\n",
       "                  2015-16\n",
       "              </td>\n",
       "<td class=\"team\">\n",
       "<i><img src=\"images/flag.png\"/></i>\n",
       "<span class=\"txt-blue\">\n",
       "<a href=\"https://www.eliteprospects.com/team/10263/mit-mass.-inst.-of-tech./2015-2016?tab=stats\"> MIT (Mass. Inst. of Tech.) </a>\n",
       "</span>\n",
       "</td>\n",
       "<td class=\"league\"> <a href=\"https://www.eliteprospects.com/league/acha-ii/stats/2015-2016\"> ACHA II </a> </td>\n",
       "<td class=\"regular gp\">9</td>\n",
       "<td class=\"regular g\">1</td>\n",
       "<td class=\"regular a\">1</td>\n",
       "<td class=\"regular tp\">2</td>\n",
       "<td class=\"regular pim\">2</td>\n",
       "<td class=\"regular pm\"></td>\n",
       "<td class=\"separator\"> | </td>\n",
       "<td class=\"postseason\">\n",
       "<a href=\"https://www.eliteprospects.com/league/acha-ii/stats/2015-2016\"> </a>\n",
       "</td>\n",
       "<td class=\"postseason gp\">\n",
       "</td>\n",
       "<td class=\"postseason g\">\n",
       "</td>\n",
       "<td class=\"postseason a\">\n",
       "</td>\n",
       "<td class=\"postseason tp\">\n",
       "</td>\n",
       "<td class=\"postseason pim\">\n",
       "</td>\n",
       "<td class=\"postseason pm\">\n",
       "</td>\n",
       "</tr>\n",
       "<tr class=\"team-continent-NA\">\n",
       "<td class=\"season sorted\">\n",
       "                  2016-17\n",
       "              </td>\n",
       "<td class=\"team\">\n",
       "<i><img src=\"images/flag.png\"/></i>\n",
       "<span class=\"txt-blue\">\n",
       "<a href=\"https://www.eliteprospects.com/team/10263/mit-mass.-inst.-of-tech./2016-2017?tab=stats\"> MIT (Mass. Inst. of Tech.) </a>\n",
       "</span>\n",
       "</td>\n",
       "<td class=\"league\"> <a href=\"https://www.eliteprospects.com/league/acha-ii/stats/2016-2017\"> ACHA II </a> </td>\n",
       "<td class=\"regular gp\">12</td>\n",
       "<td class=\"regular g\">5</td>\n",
       "<td class=\"regular a\">5</td>\n",
       "<td class=\"regular tp\">10</td>\n",
       "<td class=\"regular pim\">8</td>\n",
       "<td class=\"regular pm\">0</td>\n",
       "<td class=\"separator\"> | </td>\n",
       "<td class=\"postseason\">\n",
       "</td>\n",
       "<td class=\"postseason gp\">\n",
       "</td>\n",
       "<td class=\"postseason g\">\n",
       "</td>\n",
       "<td class=\"postseason a\">\n",
       "</td>\n",
       "<td class=\"postseason tp\">\n",
       "</td>\n",
       "<td class=\"postseason pim\">\n",
       "</td>\n",
       "<td class=\"postseason pm\">\n",
       "</td>\n",
       "</tr>\n",
       "<tr class=\"team-continent-EU\">\n",
       "<td class=\"season sorted\">\n",
       "                  2017-18\n",
       "              </td>\n",
       "<td class=\"team\">\n",
       "                  Did not play\n",
       "              </td>\n",
       "<td class=\"league\"> <a href=\"https://www.eliteprospects.com/stats\"> </a> </td>\n",
       "<td class=\"regular gp\"></td>\n",
       "<td class=\"regular g\"></td>\n",
       "<td class=\"regular a\"></td>\n",
       "<td class=\"regular tp\"></td>\n",
       "<td class=\"regular pim\"></td>\n",
       "<td class=\"regular pm\"></td>\n",
       "<td class=\"separator\"> | </td>\n",
       "<td class=\"postseason\">\n",
       "<a href=\"https://www.eliteprospects.com/stats\"> </a>\n",
       "</td>\n",
       "<td class=\"postseason gp\">\n",
       "</td>\n",
       "<td class=\"postseason g\">\n",
       "</td>\n",
       "<td class=\"postseason a\">\n",
       "</td>\n",
       "<td class=\"postseason tp\">\n",
       "</td>\n",
       "<td class=\"postseason pim\">\n",
       "</td>\n",
       "<td class=\"postseason pm\">\n",
       "</td>\n",
       "</tr>\n",
       "<tr class=\"team-continent-NA\">\n",
       "<td class=\"season sorted\">\n",
       "                  2018-19\n",
       "              </td>\n",
       "<td class=\"team\">\n",
       "<i><img src=\"images/flag.png\"/></i>\n",
       "<span class=\"txt-blue\">\n",
       "<a href=\"https://www.eliteprospects.com/team/10263/mit-mass.-inst.-of-tech./2018-2019?tab=stats\"> MIT (Mass. Inst. of Tech.) </a>\n",
       "</span>\n",
       "</td>\n",
       "<td class=\"league\"> <a href=\"https://www.eliteprospects.com/league/acha-iii/stats/2018-2019\"> ACHA III </a> </td>\n",
       "<td class=\"regular gp\">8</td>\n",
       "<td class=\"regular g\">5</td>\n",
       "<td class=\"regular a\">10</td>\n",
       "<td class=\"regular tp\">15</td>\n",
       "<td class=\"regular pim\">8</td>\n",
       "<td class=\"regular pm\"></td>\n",
       "<td class=\"separator\"> | </td>\n",
       "<td class=\"postseason\">\n",
       "<a href=\"https://www.eliteprospects.com/league/acha-iii/stats/2018-2019\"> </a>\n",
       "</td>\n",
       "<td class=\"postseason gp\">\n",
       "</td>\n",
       "<td class=\"postseason g\">\n",
       "</td>\n",
       "<td class=\"postseason a\">\n",
       "</td>\n",
       "<td class=\"postseason tp\">\n",
       "</td>\n",
       "<td class=\"postseason pim\">\n",
       "</td>\n",
       "<td class=\"postseason pm\">\n",
       "</td>\n",
       "</tr>\n",
       "</tbody>\n",
       "</table>\n",
       "<h2>Mystery Message Challenge!</h2>\n",
       "<p>If you scrape the links below grabbing the &lt;p&gt; tag with id=\"secret-word\", you'll discover a secret message :)</p>\n",
       "<div width=\"50%\">\n",
       "<div align=\"left\" class=\"block\">\n",
       "<ul>\n",
       "<li><a href=\"challenge/file_1.html\">File 1</a></li>\n",
       "<li><a href=\"challenge/file_2.html\">File 2</a></li>\n",
       "<li><a href=\"challenge/file_3.html\">File 3</a></li>\n",
       "<li><a href=\"challenge/file_4.html\">File 4</a></li>\n",
       "<li><a href=\"challenge/file_5.html\">File 5</a></li>\n",
       "</ul>\n",
       "</div>\n",
       "<div align=\"center\" class=\"block\">\n",
       "<ul>\n",
       "<li><a href=\"challenge/file_6.html\">File 6</a></li>\n",
       "<li><a href=\"challenge/file_7.html\">File 7</a></li>\n",
       "<li><a href=\"challenge/file_8.html\">File 8</a></li>\n",
       "<li><a href=\"challenge/file_9.html\">File 9</a></li>\n",
       "<li><a href=\"challenge/file_10.html\">File 10</a></li>\n",
       "</ul>\n",
       "</div>\n",
       "</div>\n",
       "<h2>Footnotes</h2>\n",
       "<p id=\"footer\">1. This was actually a minivan that I named Debora. Maybe not my dream car, but I loved her nonetheless.</p>\n",
       "</body>\n",
       "</html>"
      ]
     },
     "execution_count": 54,
     "metadata": {},
     "output_type": "execute_result"
    }
   ],
   "source": [
    "r = requests.get(\"https://keithgalli.github.io/web-scraping/webpage.html\")\n",
    "soup = bs(r.content)\n",
    "soup"
   ]
  },
  {
   "cell_type": "markdown",
   "id": "42237c16-c801-41f2-bb26-6c82f1073a38",
   "metadata": {},
   "source": [
    "##### Grab all of the social links from the webpage"
   ]
  },
  {
   "cell_type": "code",
   "execution_count": 60,
   "id": "d9fca0e1-9b8b-408d-9258-8b18e574c6b0",
   "metadata": {},
   "outputs": [
    {
     "name": "stdout",
     "output_type": "stream",
     "text": [
      "https://www.instagram.com/keithgalli/\n",
      "https://twitter.com/keithgalli\n",
      "https://www.linkedin.com/in/keithgalli/\n",
      "https://www.tiktok.com/@keithgalli\n"
     ]
    }
   ],
   "source": [
    "links = soup.find(class_ = \"socials\")\n",
    "for link in links.find_all(\"li\"):\n",
    "    print(link.find(\"a\")[\"href\"])"
   ]
  },
  {
   "cell_type": "markdown",
   "id": "ab7648ba-e1c1-4287-add8-00438e2939cc",
   "metadata": {},
   "source": [
    "##### Grab a table on the webpage"
   ]
  },
  {
   "cell_type": "code",
   "execution_count": 64,
   "id": "a18d7f21-b397-45e8-8c96-8d4c393f8f91",
   "metadata": {},
   "outputs": [
    {
     "data": {
      "text/html": [
       "<div>\n",
       "<style scoped>\n",
       "    .dataframe tbody tr th:only-of-type {\n",
       "        vertical-align: middle;\n",
       "    }\n",
       "\n",
       "    .dataframe tbody tr th {\n",
       "        vertical-align: top;\n",
       "    }\n",
       "\n",
       "    .dataframe thead th {\n",
       "        text-align: right;\n",
       "    }\n",
       "</style>\n",
       "<table border=\"1\" class=\"dataframe\">\n",
       "  <thead>\n",
       "    <tr style=\"text-align: right;\">\n",
       "      <th></th>\n",
       "      <th>S</th>\n",
       "      <th>Team</th>\n",
       "      <th>League</th>\n",
       "      <th>GP</th>\n",
       "      <th>G</th>\n",
       "      <th>A</th>\n",
       "      <th>TP</th>\n",
       "      <th>PIM</th>\n",
       "      <th>+/-</th>\n",
       "      <th>Unnamed: 9</th>\n",
       "      <th>POST</th>\n",
       "      <th>GP.1</th>\n",
       "      <th>G.1</th>\n",
       "      <th>A.1</th>\n",
       "      <th>TP.1</th>\n",
       "      <th>PIM.1</th>\n",
       "      <th>+/-.1</th>\n",
       "    </tr>\n",
       "  </thead>\n",
       "  <tbody>\n",
       "    <tr>\n",
       "      <th>0</th>\n",
       "      <td>2014-15</td>\n",
       "      <td>MIT (Mass. Inst. of Tech.)</td>\n",
       "      <td>ACHA II</td>\n",
       "      <td>17.0</td>\n",
       "      <td>3.0</td>\n",
       "      <td>9.0</td>\n",
       "      <td>12.0</td>\n",
       "      <td>20.0</td>\n",
       "      <td>NaN</td>\n",
       "      <td>|</td>\n",
       "      <td>NaN</td>\n",
       "      <td>NaN</td>\n",
       "      <td>NaN</td>\n",
       "      <td>NaN</td>\n",
       "      <td>NaN</td>\n",
       "      <td>NaN</td>\n",
       "      <td>NaN</td>\n",
       "    </tr>\n",
       "    <tr>\n",
       "      <th>1</th>\n",
       "      <td>2015-16</td>\n",
       "      <td>MIT (Mass. Inst. of Tech.)</td>\n",
       "      <td>ACHA II</td>\n",
       "      <td>9.0</td>\n",
       "      <td>1.0</td>\n",
       "      <td>1.0</td>\n",
       "      <td>2.0</td>\n",
       "      <td>2.0</td>\n",
       "      <td>NaN</td>\n",
       "      <td>|</td>\n",
       "      <td>NaN</td>\n",
       "      <td>NaN</td>\n",
       "      <td>NaN</td>\n",
       "      <td>NaN</td>\n",
       "      <td>NaN</td>\n",
       "      <td>NaN</td>\n",
       "      <td>NaN</td>\n",
       "    </tr>\n",
       "    <tr>\n",
       "      <th>2</th>\n",
       "      <td>2016-17</td>\n",
       "      <td>MIT (Mass. Inst. of Tech.)</td>\n",
       "      <td>ACHA II</td>\n",
       "      <td>12.0</td>\n",
       "      <td>5.0</td>\n",
       "      <td>5.0</td>\n",
       "      <td>10.0</td>\n",
       "      <td>8.0</td>\n",
       "      <td>0.0</td>\n",
       "      <td>|</td>\n",
       "      <td>NaN</td>\n",
       "      <td>NaN</td>\n",
       "      <td>NaN</td>\n",
       "      <td>NaN</td>\n",
       "      <td>NaN</td>\n",
       "      <td>NaN</td>\n",
       "      <td>NaN</td>\n",
       "    </tr>\n",
       "    <tr>\n",
       "      <th>3</th>\n",
       "      <td>2017-18</td>\n",
       "      <td>Did not play</td>\n",
       "      <td>NaN</td>\n",
       "      <td>NaN</td>\n",
       "      <td>NaN</td>\n",
       "      <td>NaN</td>\n",
       "      <td>NaN</td>\n",
       "      <td>NaN</td>\n",
       "      <td>NaN</td>\n",
       "      <td>|</td>\n",
       "      <td>NaN</td>\n",
       "      <td>NaN</td>\n",
       "      <td>NaN</td>\n",
       "      <td>NaN</td>\n",
       "      <td>NaN</td>\n",
       "      <td>NaN</td>\n",
       "      <td>NaN</td>\n",
       "    </tr>\n",
       "    <tr>\n",
       "      <th>4</th>\n",
       "      <td>2018-19</td>\n",
       "      <td>MIT (Mass. Inst. of Tech.)</td>\n",
       "      <td>ACHA III</td>\n",
       "      <td>8.0</td>\n",
       "      <td>5.0</td>\n",
       "      <td>10.0</td>\n",
       "      <td>15.0</td>\n",
       "      <td>8.0</td>\n",
       "      <td>NaN</td>\n",
       "      <td>|</td>\n",
       "      <td>NaN</td>\n",
       "      <td>NaN</td>\n",
       "      <td>NaN</td>\n",
       "      <td>NaN</td>\n",
       "      <td>NaN</td>\n",
       "      <td>NaN</td>\n",
       "      <td>NaN</td>\n",
       "    </tr>\n",
       "  </tbody>\n",
       "</table>\n",
       "</div>"
      ],
      "text/plain": [
       "         S                        Team    League    GP    G     A    TP   PIM  \\\n",
       "0  2014-15  MIT (Mass. Inst. of Tech.)   ACHA II  17.0  3.0   9.0  12.0  20.0   \n",
       "1  2015-16  MIT (Mass. Inst. of Tech.)   ACHA II   9.0  1.0   1.0   2.0   2.0   \n",
       "2  2016-17  MIT (Mass. Inst. of Tech.)   ACHA II  12.0  5.0   5.0  10.0   8.0   \n",
       "3  2017-18                Did not play       NaN   NaN  NaN   NaN   NaN   NaN   \n",
       "4  2018-19  MIT (Mass. Inst. of Tech.)  ACHA III   8.0  5.0  10.0  15.0   8.0   \n",
       "\n",
       "   +/- Unnamed: 9  POST  GP.1  G.1  A.1  TP.1  PIM.1  +/-.1  \n",
       "0  NaN          |   NaN   NaN  NaN  NaN   NaN    NaN    NaN  \n",
       "1  NaN          |   NaN   NaN  NaN  NaN   NaN    NaN    NaN  \n",
       "2  0.0          |   NaN   NaN  NaN  NaN   NaN    NaN    NaN  \n",
       "3  NaN          |   NaN   NaN  NaN  NaN   NaN    NaN    NaN  \n",
       "4  NaN          |   NaN   NaN  NaN  NaN   NaN    NaN    NaN  "
      ]
     },
     "execution_count": 64,
     "metadata": {},
     "output_type": "execute_result"
    }
   ],
   "source": [
    "pd.read_html(\"https://keithgalli.github.io/web-scraping/webpage.html\")[0]"
   ]
  },
  {
   "cell_type": "markdown",
   "id": "ed774a03-1b5c-4556-abb6-788522268939",
   "metadata": {},
   "source": [
    "Grab all the fun facts that use the word is"
   ]
  },
  {
   "cell_type": "code",
   "execution_count": 79,
   "id": "7ee01c1e-ed8c-411b-9953-9033b600130a",
   "metadata": {},
   "outputs": [
    {
     "data": {
      "text/plain": [
       "[[],\n",
       " ['Middle name is Ronald'],\n",
       " [],\n",
       " ['Dunkin Donuts coffee is better than Starbucks'],\n",
       " ['A favorite book series of mine is '],\n",
       " ['Current video game of choice is '],\n",
       " [\"The band that I've seen the most times live is the \"]]"
      ]
     },
     "execution_count": 79,
     "metadata": {},
     "output_type": "execute_result"
    }
   ],
   "source": [
    "facts = soup.find(class_ = \"fun-facts\").find_all(\"li\")\n",
    "[fact.find_all(string = re.compile(\"is\")) for fact in facts]"
   ]
  },
  {
   "cell_type": "code",
   "execution_count": null,
   "id": "f1d51261-00df-4a2f-8db7-95fd37442c45",
   "metadata": {},
   "outputs": [],
   "source": []
  }
 ],
 "metadata": {
  "kernelspec": {
   "display_name": "Python 3 (ipykernel)",
   "language": "python",
   "name": "python3"
  },
  "language_info": {
   "codemirror_mode": {
    "name": "ipython",
    "version": 3
   },
   "file_extension": ".py",
   "mimetype": "text/x-python",
   "name": "python",
   "nbconvert_exporter": "python",
   "pygments_lexer": "ipython3",
   "version": "3.13.2"
  }
 },
 "nbformat": 4,
 "nbformat_minor": 5
}
